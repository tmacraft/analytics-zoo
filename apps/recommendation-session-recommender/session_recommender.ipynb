{
 "cells": [
  {
   "cell_type": "markdown",
   "metadata": {},
   "source": [
    "## SessionRecommender Demo"
   ]
  },
  {
   "cell_type": "markdown",
   "metadata": {},
   "source": [
    "## Intialization\n",
    "import necessary libraries"
   ]
  },
  {
   "cell_type": "code",
   "execution_count": 1,
   "metadata": {},
   "outputs": [
    {
     "name": "stdout",
     "output_type": "stream",
     "text": [
      "Prepending /Users/rbilw002/.local/share/virtualenvs/srPython-S2LVl484/lib/python3.6/site-packages/bigdl/share/conf/spark-bigdl.conf to sys.path\n",
      "Adding /Users/rbilw002/.local/share/virtualenvs/srPython-S2LVl484/lib/python3.6/site-packages/zoo/share/lib/analytics-zoo-bigdl_0.8.0-spark_2.4.3-0.5.1-jar-with-dependencies.jar to BIGDL_JARS\n",
      "Prepending /Users/rbilw002/.local/share/virtualenvs/srPython-S2LVl484/lib/python3.6/site-packages/zoo/share/conf/spark-analytics-zoo.conf to sys.path\n",
      "Populating the interactive namespace from numpy and matplotlib\n"
     ]
    }
   ],
   "source": [
    "from zoo.models.recommendation import *\n",
    "from zoo.models.recommendation.utils import *\n",
    "from zoo.common.nncontext import init_nncontext\n",
    "import os\n",
    "import sys\n",
    "import datetime as dt\n",
    "\n",
    "import matplotlib\n",
    "matplotlib.use(\"agg\")\n",
    "import matplotlib.pyplot as plt\n",
    "%pylab inline"
   ]
  },
  {
   "cell_type": "markdown",
   "metadata": {},
   "source": [
    "Initialize NN context, it will get a SparkContext with optimized configuration for BigDL performance"
   ]
  },
  {
   "cell_type": "code",
   "execution_count": 2,
   "metadata": {},
   "outputs": [],
   "source": [
    "sc = init_nncontext(\"SessionRecommender Example\")\n",
    "sqlContext = SQLContext(sc)"
   ]
  },
  {
   "cell_type": "markdown",
   "metadata": {},
   "source": [
    "## Data Preparation\n",
    "Download and read session data, understand the dimension."
   ]
  },
  {
   "cell_type": "code",
   "execution_count": 3,
   "metadata": {},
   "outputs": [],
   "source": [
    "raw_df = sqlContext.read.option(\"header\", \"false\") \\\n",
    ".option(\"timestampFormat\", \"yyyy/MM/dd HH:mm:ss ZZ\") \\\n",
    ".json(\"./atcHistory.json\")"
   ]
  },
  {
   "cell_type": "code",
   "execution_count": 4,
   "metadata": {},
   "outputs": [
    {
     "name": "stdout",
     "output_type": "stream",
     "text": [
      "+---------+--------------------+--------------------+-------------------+\n",
      "| AGENT_ID|             ATC_SEQ|          PURCH_HIST|         SESSION_ID|\n",
      "+---------+--------------------+--------------------+-------------------+\n",
      "|  1209985|[4383.0, 554.0, 2...|           [20068.0]|  85747132003130873|\n",
      "|144083740|        [84.0, 46.0]|              [46.0]|5053574821831114024|\n",
      "|144449078|   [11133.0, 3992.0]|[10893.0, 3992.0,...|7169459224267076906|\n",
      "|190853148|[113.0, 419.0, 70...|[2573.0, 3705.0, ...|2718032582536236849|\n",
      "|190853148|[419.0, 587.0, 21...|[2573.0, 3705.0, ...|3173245714239814804|\n",
      "|190853148|[587.0, 419.0, 21...|[2573.0, 3705.0, ...|5334404265190632876|\n",
      "|190853148|[419.0, 19984.0, ...|[2573.0, 3705.0, ...|1168841746852385152|\n",
      "|190853148|[224.0, 113.0, 41...|[2573.0, 3705.0, ...|2050313387125242837|\n",
      "|190853148|       [113.0, 70.0]|[2573.0, 3705.0, ...|4957432675248974378|\n",
      "|190853148|      [419.0, 211.0]|[2573.0, 3705.0, ...|4366140795879791705|\n",
      "|190853148|[419.0, 587.0, 54...|[2573.0, 3705.0, ...|2039325918295496702|\n",
      "|210655374|[2618.0, 21174.0,...|[1014.0, 21174.0,...|5480799969893747816|\n",
      "|216211578|        [9.0, 808.0]|        [9.0, 808.0]|6409051508792979304|\n",
      "|216294328|[1959.0, 6722.0, ...|[6722.0, 2.0, 195...|2848096172365866704|\n",
      "|233797396|[479.0, 442.0, 19...|[442.0, 1943.0, 4...|5642338485732581163|\n",
      "|235746866|     [36.0, 13997.0]|              [36.0]|6694987171679350762|\n",
      "|238380850|     [2564.0, 543.0]|     [2564.0, 543.0]|6483088185252578293|\n",
      "|238380850|[3144.0, 543.0, 2...|     [2564.0, 543.0]|1269830071442929531|\n",
      "|249514897|      [223.0, 262.0]|      [223.0, 262.0]|6713646998399946834|\n",
      "|249514897|      [262.0, 223.0]|      [223.0, 262.0]|3760424829876101088|\n",
      "+---------+--------------------+--------------------+-------------------+\n",
      "only showing top 20 rows\n",
      "\n"
     ]
    }
   ],
   "source": [
    "raw_df.show()"
   ]
  },
  {
   "cell_type": "code",
   "execution_count": 5,
   "metadata": {},
   "outputs": [],
   "source": [
    "item_count = max(raw_df.select(\"ATC_SEQ\").rdd.map(lambda x: max(x[0])).collect())\n",
    "user_count = float(raw_df.select(\"AGENT_ID\").distinct().count())"
   ]
  },
  {
   "cell_type": "markdown",
   "metadata": {},
   "source": [
    "Create udf functions to preprocess training data"
   ]
  },
  {
   "cell_type": "code",
   "execution_count": 6,
   "metadata": {},
   "outputs": [],
   "source": [
    "from pyspark.sql.functions import col, udf, explode, size\n",
    "from pyspark.sql.types import DoubleType, ArrayType"
   ]
  },
  {
   "cell_type": "code",
   "execution_count": 7,
   "metadata": {},
   "outputs": [],
   "source": [
    "def slide(seq):\n",
    "    win = len(seq) + 1\n",
    "    out = []\n",
    "    for i in range(1, win):\n",
    "        sliced = seq[slice(i)]\n",
    "        out.append(sliced)\n",
    "    return out"
   ]
  },
  {
   "cell_type": "code",
   "execution_count": 8,
   "metadata": {},
   "outputs": [],
   "source": [
    "slide_udf = udf(lambda x: slide(x), \"array<array<double>>\")"
   ]
  },
  {
   "cell_type": "code",
   "execution_count": 9,
   "metadata": {},
   "outputs": [],
   "source": [
    "def get_label(seq):\n",
    "    return seq[-1]"
   ]
  },
  {
   "cell_type": "code",
   "execution_count": 10,
   "metadata": {},
   "outputs": [],
   "source": [
    "get_label_udf = udf(lambda x: get_label(x), DoubleType())"
   ]
  },
  {
   "cell_type": "code",
   "execution_count": 11,
   "metadata": {},
   "outputs": [],
   "source": [
    "def get_feature(seq):\n",
    "    win = len(seq) - 1\n",
    "    return seq[:win]"
   ]
  },
  {
   "cell_type": "code",
   "execution_count": 12,
   "metadata": {},
   "outputs": [],
   "source": [
    "get_feature_udf = udf(lambda x: get_feature(x), ArrayType(DoubleType()))"
   ]
  },
  {
   "cell_type": "code",
   "execution_count": 13,
   "metadata": {},
   "outputs": [],
   "source": [
    "def prepad(seq, length):\n",
    "    win = len(seq)\n",
    "    if win < length:\n",
    "        return [0.0] * (length - win) + seq\n",
    "    else:\n",
    "        return seq[-length:]"
   ]
  },
  {
   "cell_type": "code",
   "execution_count": 14,
   "metadata": {},
   "outputs": [],
   "source": [
    "prepad_udf = udf(lambda x: prepad(x, 5), ArrayType(DoubleType()))"
   ]
  },
  {
   "cell_type": "markdown",
   "metadata": {},
   "source": [
    "Slide atc window to generate more training data, get label, and prepad the atc sequence to a fixed length"
   ]
  },
  {
   "cell_type": "code",
   "execution_count": 15,
   "metadata": {},
   "outputs": [],
   "source": [
    "session_df = raw_df.withColumn(\"ATC_SEQ\", explode(slide_udf(\"ATC_SEQ\"))) \\\n",
    "    .where(size(\"ATC_SEQ\") > 1) \\\n",
    "    .withColumn(\"label\", get_label_udf(\"ATC_SEQ\")) \\\n",
    "    .withColumn(\"ATC_SEQ\", get_feature_udf(\"ATC_SEQ\")) \\\n",
    "    .withColumn(\"ATC_SEQ\", prepad_udf(\"ATC_SEQ\"))"
   ]
  },
  {
   "cell_type": "code",
   "execution_count": 16,
   "metadata": {},
   "outputs": [
    {
     "name": "stdout",
     "output_type": "stream",
     "text": [
      "+---------+---------------------------------+-----------------------------------------+-------------------+-------+\n",
      "|AGENT_ID |ATC_SEQ                          |PURCH_HIST                               |SESSION_ID         |label  |\n",
      "+---------+---------------------------------+-----------------------------------------+-------------------+-------+\n",
      "|1209985  |[0.0, 0.0, 0.0, 0.0, 4383.0]     |[20068.0]                                |85747132003130873  |554.0  |\n",
      "|1209985  |[0.0, 0.0, 0.0, 4383.0, 554.0]   |[20068.0]                                |85747132003130873  |20068.0|\n",
      "|144083740|[0.0, 0.0, 0.0, 0.0, 84.0]       |[46.0]                                   |5053574821831114024|46.0   |\n",
      "|144449078|[0.0, 0.0, 0.0, 0.0, 11133.0]    |[10893.0, 3992.0, 6317.0, 1261.0, 7786.0]|7169459224267076906|3992.0 |\n",
      "|190853148|[0.0, 0.0, 0.0, 0.0, 113.0]      |[2573.0, 3705.0, 27483.0, 9931.0, 3805.0]|2718032582536236849|419.0  |\n",
      "|190853148|[0.0, 0.0, 0.0, 113.0, 419.0]    |[2573.0, 3705.0, 27483.0, 9931.0, 3805.0]|2718032582536236849|70.0   |\n",
      "|190853148|[0.0, 0.0, 113.0, 419.0, 70.0]   |[2573.0, 3705.0, 27483.0, 9931.0, 3805.0]|2718032582536236849|211.0  |\n",
      "|190853148|[0.0, 113.0, 419.0, 70.0, 211.0] |[2573.0, 3705.0, 27483.0, 9931.0, 3805.0]|2718032582536236849|224.0  |\n",
      "|190853148|[0.0, 0.0, 0.0, 0.0, 419.0]      |[2573.0, 3705.0, 27483.0, 9931.0, 3805.0]|3173245714239814804|587.0  |\n",
      "|190853148|[0.0, 0.0, 0.0, 419.0, 587.0]    |[2573.0, 3705.0, 27483.0, 9931.0, 3805.0]|3173245714239814804|211.0  |\n",
      "|190853148|[0.0, 0.0, 419.0, 587.0, 211.0]  |[2573.0, 3705.0, 27483.0, 9931.0, 3805.0]|3173245714239814804|542.0  |\n",
      "|190853148|[0.0, 0.0, 0.0, 0.0, 587.0]      |[2573.0, 3705.0, 27483.0, 9931.0, 3805.0]|5334404265190632876|419.0  |\n",
      "|190853148|[0.0, 0.0, 0.0, 587.0, 419.0]    |[2573.0, 3705.0, 27483.0, 9931.0, 3805.0]|5334404265190632876|211.0  |\n",
      "|190853148|[0.0, 0.0, 587.0, 419.0, 211.0]  |[2573.0, 3705.0, 27483.0, 9931.0, 3805.0]|5334404265190632876|542.0  |\n",
      "|190853148|[0.0, 0.0, 0.0, 0.0, 419.0]      |[2573.0, 3705.0, 27483.0, 9931.0, 3805.0]|1168841746852385152|19984.0|\n",
      "|190853148|[0.0, 0.0, 0.0, 419.0, 19984.0]  |[2573.0, 3705.0, 27483.0, 9931.0, 3805.0]|1168841746852385152|587.0  |\n",
      "|190853148|[0.0, 0.0, 419.0, 19984.0, 587.0]|[2573.0, 3705.0, 27483.0, 9931.0, 3805.0]|1168841746852385152|211.0  |\n",
      "|190853148|[0.0, 0.0, 0.0, 0.0, 224.0]      |[2573.0, 3705.0, 27483.0, 9931.0, 3805.0]|2050313387125242837|113.0  |\n",
      "|190853148|[0.0, 0.0, 0.0, 224.0, 113.0]    |[2573.0, 3705.0, 27483.0, 9931.0, 3805.0]|2050313387125242837|419.0  |\n",
      "|190853148|[0.0, 0.0, 224.0, 113.0, 419.0]  |[2573.0, 3705.0, 27483.0, 9931.0, 3805.0]|2050313387125242837|211.0  |\n",
      "+---------+---------------------------------+-----------------------------------------+-------------------+-------+\n",
      "only showing top 20 rows\n",
      "\n"
     ]
    }
   ],
   "source": [
    "session_df.show(20, False)"
   ]
  },
  {
   "cell_type": "code",
   "execution_count": 18,
   "metadata": {},
   "outputs": [],
   "source": [
    "sample = session_df.select(\"ATC_SEQ\", \"PURCH_HIST\", \"label\").rdd.map(lambda x: Sample.from_ndarray(np.array(x[0]), np.array(x[2])))"
   ]
  },
  {
   "cell_type": "code",
   "execution_count": 19,
   "metadata": {},
   "outputs": [
    {
     "data": {
      "text/plain": [
       "[Sample: features: [JTensor: storage: [   0.    0.    0.    0. 4383.], shape: [5], float], labels: [JTensor: storage: [554.], shape: [1], float]]"
      ]
     },
     "execution_count": 19,
     "metadata": {},
     "output_type": "execute_result"
    }
   ],
   "source": [
    "sample.take(1)"
   ]
  },
  {
   "cell_type": "code",
   "execution_count": 1,
   "metadata": {},
   "outputs": [
    {
     "name": "stdout",
     "output_type": "stream",
     "text": [
      "Prepending /Users/rbilw002/.local/share/virtualenvs/srPython-S2LVl484/lib/python3.6/site-packages/bigdl/share/conf/spark-bigdl.conf to sys.path\n",
      "Adding /Users/rbilw002/.local/share/virtualenvs/srPython-S2LVl484/lib/python3.6/site-packages/zoo/share/lib/analytics-zoo-bigdl_0.8.0-spark_2.4.3-0.5.1-jar-with-dependencies.jar to BIGDL_JARS\n",
      "Prepending /Users/rbilw002/.local/share/virtualenvs/srPython-S2LVl484/lib/python3.6/site-packages/zoo/share/conf/spark-analytics-zoo.conf to sys.path\n"
     ]
    }
   ],
   "source": [
    "from session_recommender import SessionRecommender"
   ]
  },
  {
   "cell_type": "code",
   "execution_count": 2,
   "metadata": {},
   "outputs": [
    {
     "name": "stdout",
     "output_type": "stream",
     "text": [
      "creating: createZooKerasInput\n",
      "creating: createZooKerasEmbedding\n",
      "creating: createZooKerasGRU\n",
      "creating: createZooKerasGRU\n",
      "creating: createZooKerasDense\n",
      "creating: createZooKerasInput\n",
      "creating: createZooKerasEmbedding\n",
      "creating: createZooKerasFlatten\n",
      "creating: createZooKerasDense\n",
      "creating: createZooKerasDense\n",
      "creating: createZooKerasDense\n",
      "creating: createZooKerasMerge\n",
      "creating: createZooKerasActivation\n",
      "creating: createZooKerasModel\n",
      "creating: createZooSessionRecommender\n"
     ]
    },
    {
     "ename": "Py4JError",
     "evalue": "An error occurred while calling o37.createZooSessionRecommender. Trace:\npy4j.Py4JException: Method createZooSessionRecommender([class java.lang.Integer, class java.util.ArrayList, class java.util.ArrayList, class java.lang.Boolean, class java.lang.Integer, class java.lang.Integer, class java.lang.String, class com.intel.analytics.zoo.pipeline.api.keras.models.Model]) does not exist\n\tat py4j.reflection.ReflectionEngine.getMethod(ReflectionEngine.java:318)\n\tat py4j.reflection.ReflectionEngine.getMethod(ReflectionEngine.java:326)\n\tat py4j.Gateway.invoke(Gateway.java:274)\n\tat py4j.commands.AbstractCommand.invokeMethod(AbstractCommand.java:132)\n\tat py4j.commands.CallCommand.execute(CallCommand.java:79)\n\tat py4j.GatewayConnection.run(GatewayConnection.java:238)\n\tat java.lang.Thread.run(Thread.java:748)\n\n",
     "output_type": "error",
     "traceback": [
      "\u001b[0;31m---------------------------------------------------------------------------\u001b[0m",
      "\u001b[0;31mPy4JError\u001b[0m                                 Traceback (most recent call last)",
      "\u001b[0;32m<ipython-input-2-b7557f03ecbb>\u001b[0m in \u001b[0;36m<module>\u001b[0;34m\u001b[0m\n\u001b[1;32m      5\u001b[0m                         \u001b[0minclude_history\u001b[0m\u001b[0;34m=\u001b[0m\u001b[0;32mTrue\u001b[0m\u001b[0;34m,\u001b[0m\u001b[0;34m\u001b[0m\u001b[0m\n\u001b[1;32m      6\u001b[0m                         \u001b[0mseq_length\u001b[0m\u001b[0;34m=\u001b[0m\u001b[0;36m5\u001b[0m\u001b[0;34m,\u001b[0m\u001b[0;34m\u001b[0m\u001b[0m\n\u001b[0;32m----> 7\u001b[0;31m                         his_length=5)\n\u001b[0m",
      "\u001b[0;32m~/Documents/GitHub/srPython/session_recommender.py\u001b[0m in \u001b[0;36m__init__\u001b[0;34m(self, item_count, item_embed, mlp_hidden_layers, rnn_hidden_layers, include_history, seq_length, his_length, bigdl_type)\u001b[0m\n\u001b[1;32m     28\u001b[0m                                                  \u001b[0mself\u001b[0m\u001b[0;34m.\u001b[0m\u001b[0minclude_history\u001b[0m\u001b[0;34m,\u001b[0m \u001b[0mself\u001b[0m\u001b[0;34m.\u001b[0m\u001b[0mseq_length\u001b[0m\u001b[0;34m,\u001b[0m\u001b[0;34m\u001b[0m\u001b[0m\n\u001b[1;32m     29\u001b[0m                                                  \u001b[0mself\u001b[0m\u001b[0;34m.\u001b[0m\u001b[0mhis_length\u001b[0m\u001b[0;34m,\u001b[0m \u001b[0mself\u001b[0m\u001b[0;34m.\u001b[0m\u001b[0mbigdl_type\u001b[0m\u001b[0;34m,\u001b[0m\u001b[0;34m\u001b[0m\u001b[0m\n\u001b[0;32m---> 30\u001b[0;31m                                                  self.model)\n\u001b[0m\u001b[1;32m     31\u001b[0m \u001b[0;34m\u001b[0m\u001b[0m\n\u001b[1;32m     32\u001b[0m     \u001b[0;32mdef\u001b[0m \u001b[0mbuild_model\u001b[0m\u001b[0;34m(\u001b[0m\u001b[0mself\u001b[0m\u001b[0;34m)\u001b[0m\u001b[0;34m:\u001b[0m\u001b[0;34m\u001b[0m\u001b[0m\n",
      "\u001b[0;32m~/.local/share/virtualenvs/srPython-S2LVl484/lib/python3.6/site-packages/bigdl/nn/layer.py\u001b[0m in \u001b[0;36m__init__\u001b[0;34m(self, jvalue, bigdl_type, *args)\u001b[0m\n\u001b[1;32m    676\u001b[0m \u001b[0;34m\u001b[0m\u001b[0m\n\u001b[1;32m    677\u001b[0m     \u001b[0;32mdef\u001b[0m \u001b[0m__init__\u001b[0m\u001b[0;34m(\u001b[0m\u001b[0mself\u001b[0m\u001b[0;34m,\u001b[0m \u001b[0mjvalue\u001b[0m\u001b[0;34m,\u001b[0m \u001b[0mbigdl_type\u001b[0m\u001b[0;34m,\u001b[0m \u001b[0;34m*\u001b[0m\u001b[0margs\u001b[0m\u001b[0;34m)\u001b[0m\u001b[0;34m:\u001b[0m\u001b[0;34m\u001b[0m\u001b[0m\n\u001b[0;32m--> 678\u001b[0;31m         \u001b[0msuper\u001b[0m\u001b[0;34m(\u001b[0m\u001b[0mContainer\u001b[0m\u001b[0;34m,\u001b[0m \u001b[0mself\u001b[0m\u001b[0;34m)\u001b[0m\u001b[0;34m.\u001b[0m\u001b[0m__init__\u001b[0m\u001b[0;34m(\u001b[0m\u001b[0mjvalue\u001b[0m\u001b[0;34m,\u001b[0m \u001b[0mbigdl_type\u001b[0m\u001b[0;34m,\u001b[0m \u001b[0;34m*\u001b[0m\u001b[0margs\u001b[0m\u001b[0;34m)\u001b[0m\u001b[0;34m\u001b[0m\u001b[0m\n\u001b[0m\u001b[1;32m    679\u001b[0m \u001b[0;34m\u001b[0m\u001b[0m\n\u001b[1;32m    680\u001b[0m     \u001b[0;32mdef\u001b[0m \u001b[0madd\u001b[0m\u001b[0;34m(\u001b[0m\u001b[0mself\u001b[0m\u001b[0;34m,\u001b[0m \u001b[0mmodel\u001b[0m\u001b[0;34m)\u001b[0m\u001b[0;34m:\u001b[0m\u001b[0;34m\u001b[0m\u001b[0m\n",
      "\u001b[0;32m~/.local/share/virtualenvs/srPython-S2LVl484/lib/python3.6/site-packages/bigdl/nn/layer.py\u001b[0m in \u001b[0;36m__init__\u001b[0;34m(self, jvalue, bigdl_type, *args)\u001b[0m\n\u001b[1;32m    129\u001b[0m         \u001b[0;32melse\u001b[0m\u001b[0;34m:\u001b[0m\u001b[0;34m\u001b[0m\u001b[0m\n\u001b[1;32m    130\u001b[0m             self.value = callBigDlFunc(\n\u001b[0;32m--> 131\u001b[0;31m                 bigdl_type, self.jvm_class_constructor(), *args)\n\u001b[0m\u001b[1;32m    132\u001b[0m         \u001b[0mself\u001b[0m\u001b[0;34m.\u001b[0m\u001b[0mbigdl_type\u001b[0m \u001b[0;34m=\u001b[0m \u001b[0mbigdl_type\u001b[0m\u001b[0;34m\u001b[0m\u001b[0m\n\u001b[1;32m    133\u001b[0m \u001b[0;34m\u001b[0m\u001b[0m\n",
      "\u001b[0;32m~/.local/share/virtualenvs/srPython-S2LVl484/lib/python3.6/site-packages/bigdl/util/common.py\u001b[0m in \u001b[0;36mcallBigDlFunc\u001b[0;34m(bigdl_type, name, *args)\u001b[0m\n\u001b[1;32m    590\u001b[0m         \u001b[0;32melse\u001b[0m\u001b[0;34m:\u001b[0m\u001b[0;34m\u001b[0m\u001b[0m\n\u001b[1;32m    591\u001b[0m             \u001b[0;32mreturn\u001b[0m \u001b[0mresult\u001b[0m\u001b[0;34m\u001b[0m\u001b[0m\n\u001b[0;32m--> 592\u001b[0;31m     \u001b[0;32mraise\u001b[0m \u001b[0merror\u001b[0m\u001b[0;34m\u001b[0m\u001b[0m\n\u001b[0m\u001b[1;32m    593\u001b[0m \u001b[0;34m\u001b[0m\u001b[0m\n\u001b[1;32m    594\u001b[0m \u001b[0;34m\u001b[0m\u001b[0m\n",
      "\u001b[0;32m~/.local/share/virtualenvs/srPython-S2LVl484/lib/python3.6/site-packages/bigdl/util/common.py\u001b[0m in \u001b[0;36mcallBigDlFunc\u001b[0;34m(bigdl_type, name, *args)\u001b[0m\n\u001b[1;32m    583\u001b[0m         \u001b[0;32mtry\u001b[0m\u001b[0;34m:\u001b[0m\u001b[0;34m\u001b[0m\u001b[0m\n\u001b[1;32m    584\u001b[0m             \u001b[0mapi\u001b[0m \u001b[0;34m=\u001b[0m \u001b[0mgetattr\u001b[0m\u001b[0;34m(\u001b[0m\u001b[0mjinvoker\u001b[0m\u001b[0;34m,\u001b[0m \u001b[0mname\u001b[0m\u001b[0;34m)\u001b[0m\u001b[0;34m\u001b[0m\u001b[0m\n\u001b[0;32m--> 585\u001b[0;31m             \u001b[0mresult\u001b[0m \u001b[0;34m=\u001b[0m \u001b[0mcallJavaFunc\u001b[0m\u001b[0;34m(\u001b[0m\u001b[0mapi\u001b[0m\u001b[0;34m,\u001b[0m \u001b[0;34m*\u001b[0m\u001b[0margs\u001b[0m\u001b[0;34m)\u001b[0m\u001b[0;34m\u001b[0m\u001b[0m\n\u001b[0m\u001b[1;32m    586\u001b[0m         \u001b[0;32mexcept\u001b[0m \u001b[0mException\u001b[0m \u001b[0;32mas\u001b[0m \u001b[0me\u001b[0m\u001b[0;34m:\u001b[0m\u001b[0;34m\u001b[0m\u001b[0m\n\u001b[1;32m    587\u001b[0m             \u001b[0merror\u001b[0m \u001b[0;34m=\u001b[0m \u001b[0me\u001b[0m\u001b[0;34m\u001b[0m\u001b[0m\n",
      "\u001b[0;32m~/.local/share/virtualenvs/srPython-S2LVl484/lib/python3.6/site-packages/bigdl/util/common.py\u001b[0m in \u001b[0;36mcallJavaFunc\u001b[0;34m(func, *args)\u001b[0m\n\u001b[1;32m    632\u001b[0m     \u001b[0mgateway\u001b[0m \u001b[0;34m=\u001b[0m \u001b[0m_get_gateway\u001b[0m\u001b[0;34m(\u001b[0m\u001b[0;34m)\u001b[0m\u001b[0;34m\u001b[0m\u001b[0m\n\u001b[1;32m    633\u001b[0m     \u001b[0margs\u001b[0m \u001b[0;34m=\u001b[0m \u001b[0;34m[\u001b[0m\u001b[0m_py2java\u001b[0m\u001b[0;34m(\u001b[0m\u001b[0mgateway\u001b[0m\u001b[0;34m,\u001b[0m \u001b[0ma\u001b[0m\u001b[0;34m)\u001b[0m \u001b[0;32mfor\u001b[0m \u001b[0ma\u001b[0m \u001b[0;32min\u001b[0m \u001b[0margs\u001b[0m\u001b[0;34m]\u001b[0m\u001b[0;34m\u001b[0m\u001b[0m\n\u001b[0;32m--> 634\u001b[0;31m     \u001b[0mresult\u001b[0m \u001b[0;34m=\u001b[0m \u001b[0mfunc\u001b[0m\u001b[0;34m(\u001b[0m\u001b[0;34m*\u001b[0m\u001b[0margs\u001b[0m\u001b[0;34m)\u001b[0m\u001b[0;34m\u001b[0m\u001b[0m\n\u001b[0m\u001b[1;32m    635\u001b[0m     \u001b[0;32mreturn\u001b[0m \u001b[0m_java2py\u001b[0m\u001b[0;34m(\u001b[0m\u001b[0mgateway\u001b[0m\u001b[0;34m,\u001b[0m \u001b[0mresult\u001b[0m\u001b[0;34m)\u001b[0m\u001b[0;34m\u001b[0m\u001b[0m\n\u001b[1;32m    636\u001b[0m \u001b[0;34m\u001b[0m\u001b[0m\n",
      "\u001b[0;32m~/.local/share/virtualenvs/srPython-S2LVl484/lib/python3.6/site-packages/py4j/java_gateway.py\u001b[0m in \u001b[0;36m__call__\u001b[0;34m(self, *args)\u001b[0m\n\u001b[1;32m   1255\u001b[0m         \u001b[0manswer\u001b[0m \u001b[0;34m=\u001b[0m \u001b[0mself\u001b[0m\u001b[0;34m.\u001b[0m\u001b[0mgateway_client\u001b[0m\u001b[0;34m.\u001b[0m\u001b[0msend_command\u001b[0m\u001b[0;34m(\u001b[0m\u001b[0mcommand\u001b[0m\u001b[0;34m)\u001b[0m\u001b[0;34m\u001b[0m\u001b[0m\n\u001b[1;32m   1256\u001b[0m         return_value = get_return_value(\n\u001b[0;32m-> 1257\u001b[0;31m             answer, self.gateway_client, self.target_id, self.name)\n\u001b[0m\u001b[1;32m   1258\u001b[0m \u001b[0;34m\u001b[0m\u001b[0m\n\u001b[1;32m   1259\u001b[0m         \u001b[0;32mfor\u001b[0m \u001b[0mtemp_arg\u001b[0m \u001b[0;32min\u001b[0m \u001b[0mtemp_args\u001b[0m\u001b[0;34m:\u001b[0m\u001b[0;34m\u001b[0m\u001b[0m\n",
      "\u001b[0;32m~/.local/share/virtualenvs/srPython-S2LVl484/lib/python3.6/site-packages/py4j/protocol.py\u001b[0m in \u001b[0;36mget_return_value\u001b[0;34m(answer, gateway_client, target_id, name)\u001b[0m\n\u001b[1;32m    330\u001b[0m                 raise Py4JError(\n\u001b[1;32m    331\u001b[0m                     \u001b[0;34m\"An error occurred while calling {0}{1}{2}. Trace:\\n{3}\\n\"\u001b[0m\u001b[0;34m.\u001b[0m\u001b[0;34m\u001b[0m\u001b[0m\n\u001b[0;32m--> 332\u001b[0;31m                     format(target_id, \".\", name, value))\n\u001b[0m\u001b[1;32m    333\u001b[0m         \u001b[0;32melse\u001b[0m\u001b[0;34m:\u001b[0m\u001b[0;34m\u001b[0m\u001b[0m\n\u001b[1;32m    334\u001b[0m             raise Py4JError(\n",
      "\u001b[0;31mPy4JError\u001b[0m: An error occurred while calling o37.createZooSessionRecommender. Trace:\npy4j.Py4JException: Method createZooSessionRecommender([class java.lang.Integer, class java.util.ArrayList, class java.util.ArrayList, class java.lang.Boolean, class java.lang.Integer, class java.lang.Integer, class java.lang.String, class com.intel.analytics.zoo.pipeline.api.keras.models.Model]) does not exist\n\tat py4j.reflection.ReflectionEngine.getMethod(ReflectionEngine.java:318)\n\tat py4j.reflection.ReflectionEngine.getMethod(ReflectionEngine.java:326)\n\tat py4j.Gateway.invoke(Gateway.java:274)\n\tat py4j.commands.AbstractCommand.invokeMethod(AbstractCommand.java:132)\n\tat py4j.commands.CallCommand.execute(CallCommand.java:79)\n\tat py4j.GatewayConnection.run(GatewayConnection.java:238)\n\tat java.lang.Thread.run(Thread.java:748)\n\n"
     ]
    }
   ],
   "source": [
    "sr = SessionRecommender(item_count=5,\n",
    "                        item_embed=300,\n",
    "                        mlp_hidden_layers=[20,20],\n",
    "                        rnn_hidden_layers=[200,200],\n",
    "                        include_history=True,\n",
    "                        seq_length=5,\n",
    "                        his_length=5)"
   ]
  },
  {
   "cell_type": "code",
   "execution_count": null,
   "metadata": {},
   "outputs": [],
   "source": []
  },
  {
   "cell_type": "code",
   "execution_count": null,
   "metadata": {},
   "outputs": [],
   "source": []
  }
 ],
 "metadata": {
  "kernelspec": {
   "display_name": "Python 3",
   "language": "python",
   "name": "python3"
  },
  "language_info": {
   "codemirror_mode": {
    "name": "ipython",
    "version": 3
   },
   "file_extension": ".py",
   "mimetype": "text/x-python",
   "name": "python",
   "nbconvert_exporter": "python",
   "pygments_lexer": "ipython3",
   "version": "3.6.5"
  }
 },
 "nbformat": 4,
 "nbformat_minor": 2
}
